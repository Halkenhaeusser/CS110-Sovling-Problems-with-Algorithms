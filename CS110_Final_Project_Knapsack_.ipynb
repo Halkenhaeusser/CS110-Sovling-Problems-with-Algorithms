{
  "nbformat": 4,
  "nbformat_minor": 0,
  "metadata": {
    "colab": {
      "name": "CS110 Final Project - Knapsack .ipynb",
      "provenance": [],
      "include_colab_link": true
    },
    "kernelspec": {
      "name": "python3",
      "display_name": "Python 3"
    }
  },
  "cells": [
    {
      "cell_type": "markdown",
      "metadata": {
        "id": "view-in-github",
        "colab_type": "text"
      },
      "source": [
        "<a href=\"https://colab.research.google.com/github/Halkenhaeusser/CS110-Sovling-Problems-with-Algorithms/blob/main/CS110_Final_Project_Knapsack_.ipynb\" target=\"_parent\"><img src=\"https://colab.research.google.com/assets/colab-badge.svg\" alt=\"Open In Colab\"/></a>"
      ]
    },
    {
      "cell_type": "markdown",
      "metadata": {
        "id": "5aPLX6mNNoUn"
      },
      "source": [
        "# Knapsack Problem"
      ]
    },
    {
      "cell_type": "markdown",
      "metadata": {
        "id": "JgJMqOGjOFDh"
      },
      "source": [
        "The problem itself is analogous to the 1/0 Knapsack Problem as we can imagine our day as our Knapsack that we want to pack as many activities in as possible while maximizing the amount of profit. The day is the sack, and the activity is a stolen good. The cost of each a tivity is unlike in the Knapsack problem the weight, but the time an activity can take. As such that is also what our overarching constraint's unit: time rather than weight capacity. \n",
        "We use the 1/0 Knapsack Problem because we cannot do an activity half way and have to include full activities rather than fractional pieces of activities. \n",
        "\n",
        "Cormen et al. (2009) agrue for a dynamic programming approach to solve this problem rather than a greedy algorithm. That is because the greedy algorithm's assumption of an optimal local choice contributing to the optimal solution does not hold here because we may not be optimizing our capacity usage. The dynamic programming solution however can with a complexity of $O(n T)$ where n is the number of activities and T is the maximum time we can have in the day.\n",
        "\n",
        "To solve this strategy we need to break down the activity of scheduling task to whether we can increase our profit if we include a particular task or not. Including a particular activity changes depending on how much capacity has been already used in the schedule and how many a ctivities have been added. However, we have the same case of the e.g. 2 activities being included already and capacity being reduced by 2 hours already, we can memoize these problems to make use of overlapping substructure. \n",
        "\n",
        "To create the activity scheduler it would be most helpful to \"pack\" an activity into one unit, that is an object of class activity. This is more memory efficient than storing them in an array and makes it easy to organize the activities. \n",
        "\n",
        "To finally print the activity schedule we can adopt the tracing and printing strategy that was used when reconstructing the longest common subsequence using dynammic programming."
      ]
    },
    {
      "cell_type": "code",
      "metadata": {
        "id": "GykYq___NiRn"
      },
      "source": [
        "import numpy as np\n",
        "\n",
        "class Activity():\n",
        "\n",
        "    \"\"\"\n",
        "    Class: Activity\n",
        "    Initialize the activity class. \n",
        "    Each activity has a name, a length, a unit of length and a profit. \n",
        "    \"\"\"\n",
        "    def __init__(self, name, length, profit, time_unit = 'min'):\n",
        "        self.name = name\n",
        "        self.length = length\n",
        "        self.time_unit = time_unit\n",
        "        self.profit = profit\n",
        "    "
      ],
      "execution_count": null,
      "outputs": []
    },
    {
      "cell_type": "code",
      "metadata": {
        "id": "NsoyzEOKjRq-"
      },
      "source": [
        "#based on the idea of the LCS_Print function from class 12.1\n",
        "def getSchedule(trac_map, act, i, j):\n",
        "\n",
        "    \"\"\"\n",
        "    function:   getSchedule\n",
        "    Input:      - map: the auxiliary matrix from Zero_One_Scheduler\n",
        "                - act: list of activities give to Zero_One_Scheduler\n",
        "                - i: tracks rows\n",
        "                - j: tracks columns\n",
        "                - schedule: the schedule we repeatedly add to. Initially an empty list.\n",
        "\n",
        "    Body:       Recursively checking the decision that was made during the scheduling\n",
        "\n",
        "    Output:     - The finished schedule of activities\n",
        "                - The total profit (which should be the same as the one we got from the Zero_One_Scheduler)\n",
        "    \"\"\"\n",
        "    schedule = []  \n",
        "    while i > 0 and j > 0:\n",
        "        #print(\"i\",i, 'j', j)\n",
        "        #print('val', trac_map[i][j])\n",
        "        if trac_map[i][j] == 1:\n",
        "        #if we added a activity to the schedule \n",
        "        #because its combination with previous elements yields higher profit\n",
        "            schedule.insert(0, act[i - 1].name)\n",
        "    \n",
        "            #notice here a change from the LCS tracer:\n",
        "            #we move by the length of the last activity we have added as it takes up \n",
        "            #that much space in the schedule\n",
        "            #print('reducing j=',j, 'by',act[i - 1].length)\n",
        "            j -= int(act[i - 1].length) \n",
        "            i -= 1\n",
        "\n",
        "        elif trac_map[i][j] == 2:\n",
        "        #if we put a pointer of left, we one the aux_memo matrix\n",
        "        #this occurs when the current activity is too long to be added to the schedule\n",
        "            i -= 1\n",
        "            \n",
        "\n",
        "        elif trac_map[i][j] == 3:\n",
        "        #when we activity could have been added \n",
        "        #but was not more profitable than the previous combination of activities.\n",
        "            i -= 1\n",
        "\n",
        "    return schedule"
      ],
      "execution_count": null,
      "outputs": []
    },
    {
      "cell_type": "code",
      "metadata": {
        "id": "96MJ18kqXlp4"
      },
      "source": [
        "def Zero_One_Scheduler(T, act_list):\n",
        "\n",
        "    '''\n",
        "    function: Zero_One_Scheduler\n",
        "    Inputs: - T = Maximum time of capacity in minutes\n",
        "            - act_list: A a list of activities of class Activity. \n",
        "    \n",
        "    Body:   Creates a matrix of subproblems being solved in a bottom up way. \n",
        "            At each slot of the matrix we enter the maximum amount of profit\n",
        "            into the matrix. \n",
        "            An auxiliary matrix traces which activities have been addeded to the\n",
        "            schedule. Through reconstructing the solutions we can create a schedule.\n",
        "\n",
        "    Output: - The maximum profit to be made. \n",
        "            - The time table of tasks. \n",
        "    '''\n",
        "\n",
        "    #get the number of activities\n",
        "    no_acts = len(act_list)\n",
        "\n",
        "    #initialize the memoization matrix\n",
        "    #it's dimensions are the number of activities and the capacity\n",
        "    #Note that the graininess of activity length therefore contributes majorly to the complexity. \n",
        "    #that is if we suddenly wanted to do this with activities that take 1.5 minutes or reduced the\n",
        "    #unit of activities to hours rather than minutes we drastically change the size of the table. \n",
        "    #also note that T and length in the activities have to be integers. \n",
        "    #We add an extra row and column to account for the base cases of having no capacity or no activities left.\n",
        "    memoize_matrix = np.zeros((no_acts + 1, T + 1))\n",
        "\n",
        "    #create the auxiliary matrix for tracking\n",
        "    aux_memo = np.zeros((no_acts + 1, T + 1))\n",
        "\n",
        "\n",
        "    #we start at index 1 because with no_acts = 0 or T = 0 we add nothing\n",
        "    #i.e. it is zero and the value is already initialized in the table\n",
        "    for a in range(no_acts + 1):\n",
        "        for t in range(T + 1):\n",
        "\n",
        "            if a == 0 or t == 0:\n",
        "                memoize_matrix[a][t] = 0\n",
        "\n",
        "            #if the length of the activity we are considering is smaller than the remaining time:\n",
        "            elif act_list[a - 1].length <= t:\n",
        "                #see if profit is increased by including it:                \n",
        "                if act_list[a - 1].profit + memoize_matrix[a - 1][t - act_list[a - 1].length] >= memoize_matrix[a - 1][t]:\n",
        "                    memoize_matrix[a][t] = act_list[a - 1].profit + memoize_matrix[a - 1][t - act_list[a - 1].length]\n",
        "                    \n",
        "                    #denote an addition as 1\n",
        "                    aux_memo[a][t] = 1\n",
        "\n",
        "                else:\n",
        "                    memoize_matrix[a][t] = memoize_matrix[a - 1][t]\n",
        "\n",
        "                    #denote a previous combination of activities being better than adding this\n",
        "                    aux_memo[a][t] = 2\n",
        "\n",
        "\n",
        "            #if the time is too long to fit in the schedule:\n",
        "            else:\n",
        "                #add the previous max\n",
        "                memoize_matrix[a][t] = memoize_matrix[a - 1][t]\n",
        "                aux_memo[a][t] = 3\n",
        "\n",
        "    #get the schedule\n",
        "    activity_list = getSchedule(aux_memo, act_list, no_acts, T)\n",
        "\n",
        "    #check if the scheduled activities actually sum up to the right profit\n",
        "    #this is a small check that the schedule tracker works\n",
        "    traced_profit = 0\n",
        "    for name in activity_list:\n",
        "        for act in act_list:\n",
        "            if name == act.name:\n",
        "                traced_profit += act.profit\n",
        "    if traced_profit != memoize_matrix[no_acts][T]:\n",
        "        return \"Error: Schedule Mismatch\"\n",
        "\n",
        "    \n",
        "    #return the schedule and the bottom right corner of the matrix to get the total profit\n",
        "    return activity_list, traced_profit\n",
        "    "
      ],
      "execution_count": null,
      "outputs": []
    },
    {
      "cell_type": "markdown",
      "metadata": {
        "id": "eBRZzsfT5ulY"
      },
      "source": [
        "Let's run a first test:\n",
        "We create 3 activities with a cumulative weight that is small enough that we could add them all.\n",
        "Hence, we expect that all of them are added to the schedule.\n",
        "(Our day is only 6 hours long here, but that is not an issue considering it is just a test). "
      ]
    },
    {
      "cell_type": "code",
      "metadata": {
        "id": "qv9pSRa3dZkN",
        "colab": {
          "base_uri": "https://localhost:8080/",
          "height": 34
        },
        "outputId": "47764be8-0b6a-4453-d7d2-c37b9b54be92"
      },
      "source": [
        "activities = []\n",
        "profits = [6, 10, 12] \n",
        "times = [1, 2, 3] \n",
        "\n",
        "for i in range(3):\n",
        "    activities.append(Activity(str(i), times[i], profits[i], 'min'))\n",
        "\n",
        "Zero_One_Scheduler(5, activities)"
      ],
      "execution_count": null,
      "outputs": [
        {
          "output_type": "execute_result",
          "data": {
            "text/plain": [
              "(['1', '2'], 22)"
            ]
          },
          "metadata": {
            "tags": []
          },
          "execution_count": 4
        }
      ]
    },
    {
      "cell_type": "markdown",
      "metadata": {
        "id": "vN9ruuoS6QwM"
      },
      "source": [
        "We see that the total profit is 30 and all tasks were added. That is what we expected and hoped to happen which is means the scheduler works on this simple example. \n",
        "\n",
        "We can also make a very inefficient brute force algorithm for this problem to test our solution against: create all the different combinations and check if they are below the capacity and select the one with the highest profit."
      ]
    },
    {
      "cell_type": "code",
      "metadata": {
        "id": "eAUZwy9Xu598"
      },
      "source": [
        "from itertools import combinations\n",
        "\n",
        "def brute_force_schedule(T, acts):\n",
        "\n",
        "    #add a non_profit able schedule\n",
        "    best_schedule = [Activity('no_good_schedule', 0, 0)]\n",
        "\n",
        "    #for the different numbers of activities in the schedule\n",
        "    for sched_len in range(1, len(acts) + 1):\n",
        "\n",
        "        #create all the different combinations (The order does not matter at all)\n",
        "        possible_schedules = list(combinations(acts, sched_len))\n",
        "\n",
        "        #for every schedule:\n",
        "        for sched in possible_schedules:\n",
        "            \n",
        "            #check if activities fit short enough\n",
        "            if sum([a.length for a in sched]) <= T: \n",
        "\n",
        "            #update the best schedule if the current schedule has higher profit\n",
        "                if sum([a.profit for a in sched]) > sum([a.profit for a in best_schedule]):\n",
        "                    best_schedule = sched\n",
        "\n",
        "    final_sched = [a.name for a in best_schedule]\n",
        "    return final_sched, sum([a.profit for a in best_schedule])"
      ],
      "execution_count": null,
      "outputs": []
    },
    {
      "cell_type": "code",
      "metadata": {
        "id": "UTcGNqw07EFc",
        "colab": {
          "base_uri": "https://localhost:8080/",
          "height": 34
        },
        "outputId": "b3c2db0b-8391-4207-d5b4-b0e78346b881"
      },
      "source": [
        "brute_force_schedule(5, activities)"
      ],
      "execution_count": null,
      "outputs": [
        {
          "output_type": "execute_result",
          "data": {
            "text/plain": [
              "(['1', '2'], 22)"
            ]
          },
          "metadata": {
            "tags": []
          },
          "execution_count": 6
        }
      ]
    },
    {
      "cell_type": "markdown",
      "metadata": {
        "id": "U7fTUJwv_Ztz"
      },
      "source": [
        "Let's get into some serious testing to see if our algorithm can pass random tests. We will randomly create inputs to our scheduler with constant bounding time. If the DP and the brute force algorithm output the same profit we can be confident in the DP scheduler as the DP scheduler already checks if his outputted schedule is correct by checking its profit. Therefore, through including a check in the DP schedule we check if the schedule outputted is correct for the result of the DP decision criterion and by checking it against the profit of the brute_force algorithm we check if that profit is optimal. \n",
        "That is if the profit of the schedule is the profit of the matrix then it is correct. Then if the profit of the brute force is the optimal solution and it is equal to the profit of the matrix, then it is equal to that of the schedule, and the schedule is therefore also correct (i.e. if A = B = C and if C = max, then A = max."
      ]
    },
    {
      "cell_type": "code",
      "metadata": {
        "id": "b03_o9fE-f8W"
      },
      "source": [
        "#let's go for a test and do some experiments along the way:\n",
        "\n",
        "import random as rd\n",
        "import time\n",
        "\n",
        "error_acts = []\n",
        "\n",
        "DP_times = []\n",
        "BF_times = []\n",
        "n = []\n",
        "\n",
        "#for up to 100 activities\n",
        "for i in range(1, 25, 3):\n",
        "    n.append(i)\n",
        "    \n",
        "    #adjust the maximum capacity\n",
        "    if i >= 100:\n",
        "        T = i//10\n",
        "    else: T = 10\n",
        "\n",
        "    #do each length some number of times for sake of getting an appropriate mean\n",
        "    for _ in range(30):\n",
        "\n",
        "        one_length_DP = []\n",
        "        one_length_BF = []\n",
        "\n",
        "        #create a list of activities with random times, profit.\n",
        "        to_be_scheduled = [Activity(str(j), rd.randint(1,T), round(rd.randint(1,i + 1)), 'min') for j in range(i)]\n",
        "\n",
        "        #calculate the profits for the ways of creating the schedule\n",
        "\n",
        "        #rec their times\n",
        "        start = time.time()\n",
        "        out_dp = Zero_One_Scheduler(T, to_be_scheduled)[1]\n",
        "        one_length_DP.append(time.time() - start)\n",
        "\n",
        "        start = time.time()\n",
        "        out_bf = brute_force_schedule(T, to_be_scheduled)[1]\n",
        "        one_length_BF.append(time.time() - start)\n",
        "        \n",
        "        #check if they are the same\n",
        "        if out_bf != out_bf:\n",
        "            print(f'Error for dp {out_dp}, bf {out_bf}')\n",
        "            error_acts.append(to_be_scheduled)\n",
        "\n",
        "        if time.time() - start > 10:\n",
        "            break\n",
        "\n",
        "    DP_times.append(np.mean(one_length_DP))\n",
        "    BF_times.append(np.mean(one_length_BF))"
      ],
      "execution_count": null,
      "outputs": []
    },
    {
      "cell_type": "markdown",
      "metadata": {
        "id": "BWkwb2IJBrHn"
      },
      "source": [
        "# Complexity Comparisons\n",
        "\n",
        "The DP programming solution is highly computationally efficient by having complexity $O(n T)$ and also has the same spacial complexity as it just needs create the matrices of that size. Creating the auxiliary matrices and backtracking it for the ultimate schedule creating adds to the cost but does not change the worst case run time. There is no difference in the best vs. the worst case time complexity because in either way the entire matrix is constructed and traced back regardless. \n",
        "\n",
        "Also note the previously mentioned importance of the unit of $T$. The more fine-grained the scheduler should work, the quicker its complexity will skyrocket. Say, I want to schedule three activities within 5 hours and each of their length is given in hours then we can have only 5 columns in the matrix, but if suddenly the activities had length in minutes say 30, 120, and 270 minutes, we would need to change T from 5 h to 300 min, thereby greatly increasing the complexity of the scheduler. \n",
        "\n",
        "The brute force solution on the other hand is incredibly inefficient as it has to make $O(\\sum_{r = 1}^{r = n}{(\\frac{n!}{(n - r)!*r!})})$ comparisons between the different schedules. This happens in the best and in the worst case because even if the best solution is the first one to be encountered, all solutions will be checked. Space wise, it will produce an increasingly longer list of to_be_checked schedules that grows with the same complexity as the complexity.\n",
        "Especially space becomes an issue really quickly which is why the maximum number of activities my machine could handle was at around 20. That is because $O(\\sum_{r = 1}^{r = n}{(\\frac{n!}{(n - r)!*r!})})$ lists have to be stored for comparisons.\n",
        "\n",
        "See Figure 1 for a vivid illustration of the advantage of the DP over the BF approach."
      ]
    },
    {
      "cell_type": "code",
      "metadata": {
        "id": "F0cDfstVApo-",
        "colab": {
          "base_uri": "https://localhost:8080/",
          "height": 279
        },
        "outputId": "3065201d-59c0-4920-de0d-0b3e96080d76"
      },
      "source": [
        "import matplotlib.pyplot as plt\n",
        "\n",
        "plt.plot(n, DP_times)\n",
        "plt.plot(n, BF_times)\n",
        "plt.xlabel(\"noº of activities\")\n",
        "plt.ylabel(\"time to find solution (sec.)\")\n",
        "plt.legend(('DP', 'BF'))\n",
        "plt.show()"
      ],
      "execution_count": null,
      "outputs": [
        {
          "output_type": "display_data",
          "data": {
            "image/png": "[encoded data removed]",
            "text/plain": [
              "<Figure size 432x288 with 1 Axes>"
            ]
          },
          "metadata": {
            "tags": []
          }
        }
      ]
    },
    {
      "cell_type": "markdown",
      "metadata": {
        "id": "IrNuxv99Nr9K"
      },
      "source": [
        "# Computational Critique\n",
        "\n",
        "A strength of this algorithm is its obvious superiority both in run time and space complexity compared to a brute force approach. It is much more efficient on both metrics.\n",
        "\n",
        "A weakness of the DP approach is that it can only identify one unique solution in terms of the schedule outputs. That is, if slightly adjusted, the brute force algorithm would be able to output every combination that leads to the optimal output if there are for example two optimal combinations. The dynamic approach of tracing back from the top right corner reconstructs the best schedule backwards which means that the schedule outputted is input dependent if there are two different schedules that are possible. This is why in my brute force vs. dynammic programming check above, we had to compare simply the profits not the actual schedule. The chance of multiple schedules being optimal increases with the number of unique profits and lengths of activities. \n",
        "\n",
        "The weakness of unit dependency is described in the complexity analysis. This dependency, however, also has direct implications on the practical inputs that are allowed in the scheduler because the length of an activity has to be a whole number as the numpy array used to memoize the schedule cannot have \"partially filled\" cells. "
      ]
    }
  ]
}