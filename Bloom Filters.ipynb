{
 "cells": [
  {
   "cell_type": "markdown",
   "metadata": {},
   "source": [
    "# Counting Bloom Filters"
   ]
  },
  {
   "cell_type": "markdown",
   "metadata": {},
   "source": [
    "1. Bloom Filters\n",
    "\n",
    "    1.1 Theory\n",
    "    \n",
    "    1.2 Applications\n",
    "    \n",
    "\n",
    "2. Counting Bloom Filters\n",
    "\n",
    "    2.1 Implementation\n",
    "    \n",
    "    2.2 Analysis\n",
    "    "
   ]
  },
  {
   "cell_type": "markdown",
   "metadata": {},
   "source": [
    "## Bloom Filters"
   ]
  },
  {
   "cell_type": "markdown",
   "metadata": {},
   "source": [
    "### Theory\n",
    "\n",
    "Bloom Filters were introduced and named by Burton Bloom (1970) as a way to yield quick responses to whether a given element was within a set of elements without having to store each individual element. It exploits a trade off between space and calculated error for problems in which there is low cost to false positives. \n",
    "\n",
    "Open addressing allowed us to operate hash tables with O(1) at each operation. However, (depending on the implementation) the size/memory required of the table increases as the set of elements to be stored increases. That is caused by each element being physically stored within the table and then accessed through the hash functions. This becomes computationally expensive as each element is contained within the table. \n",
    "\n",
    "Bloom reduced the informational content contained within each slot to whether the element has been encountered. That is instead of storing the element itself, an element that was fed to the algorithm leaves a mark in the slot that it accessed. Practically this means that each slot does not contain the element that accessed it through a hash function but simply a 0 if no element has accessed it or a 1 if it has been accessed. Each new element accesses the hash table through multiple hash functions leaving a unique imprint on the hash table by marking various spots. Imagine it through the profile of a shoe that leaves marks in the snow only in spots unique to the shoe's profile. When we now test if an element is a part of the set that has been passed to the table before, we simply check if all slots the element should have marked are equal to 1. More formally, each element $n_a$ of set $N$ will be passed through a k-sized set $H$ of hash functions $h_1, ..., h_k$. Then, in a hash table $B$ each $B[h_i(n_a)]$ will be set to 1. \n",
    "\n",
    "Bloom Filteres do have a chance of false positives however. I.e., when we identify an element $n_x$ to be part of $N$ when it is not. Such an error occurs if previously passed elements have set the markers corresponding to $n_x$ to 1. \n",
    "Imagine the case that we have k = 3 hash functions $h_1, h_2, h_3$ and are checking if an element $n_4$ is part of $N$. We have previously passed $n_1, n_2, n_3$ who are part of $N$ to $B$. If now: \n",
    "\n",
    "$B[h_1(n_1)]$ = $B[h_1(n_4)]$\n",
    "\n",
    "$B[h_2(n_2)]$ = $B[h_2(n_4)]$\n",
    "\n",
    "$B[h_3(n_3)]$ = $B[h_3(n_4)]$\n",
    "\n",
    "then we consider $n_4$ to be part of N even though it is not. We could minimize the false positive likelihood simply by increasing k. However, this would mean that $B$ would need to increase to avoid few elements to just fill up the entire table. Consider for the example illustrated in Fig. 1. \n",
    "Aside from the added overhead of calculated the additional hash value, we are also increasing the table's required memory which is exactly what we were optimizing for in the first place. Hence, we are dealing with another trade off: Increase k and hence memory and overhead or accept larger error. Therefore, it using an apppropriate uniformly hashing function is imperative."
   ]
  },
  {
   "cell_type": "markdown",
   "metadata": {},
   "source": [
    "Mathematically, the false positive rates for a bloom filter is the probability that for an element passed to the filter, none of the slots are zero. In a Bloom Filter of size m bits, k hash functions, and n set members the probability of having a zero in a slot is: \n",
    "\n",
    "$P(B[i] = 0) = (1-\\frac{1}{m})^{kn}$\n",
    "\n",
    "Hence the probability of a false positive p is: \n",
    "\n",
    "$p = (1 - (1-\\frac{1}{m})^{kn})^k \\approx (1 - e^{kn/m})^k$\n",
    "\n",
    "We can minimize the above function for an optimal number of hash functions k at:\n",
    "\n",
    "$k = ln (2) \\frac{m}{n}$. \n",
    "\n",
    "Hence, the false positive rate is given at:\n",
    "\n",
    "$(\\frac{1}{2})^k = (0.6185)^{m/n}$. \n",
    "\n",
    "(Cao, 1998)\n",
    "\n",
    "\n",
    "Consequently, we can calculate the size of the given bloom filter if we have a given false positive probability p and an expected input size n: \n",
    "\n",
    "$m = \\frac {n * log(\\frac{1}{p})}{log^2 (2)}$\n",
    "\n",
    "(Cortesi, 2015)"
   ]
  },
  {
   "cell_type": "code",
   "execution_count": null,
   "metadata": {},
   "outputs": [],
   "source": [
    "import math\n",
    "\n",
    "#initialize the bloom filter class\n",
    "class bloom():\n",
    "    \n",
    "    #our filter takes as inputs the size of the input and the desired false positive rate\n",
    "    def __init__(self, n, p):\n",
    "        \n",
    "        #calculate the memory size of the BF\n",
    "        self.size = n * math.log(1/p) / (math.log(2)*math.log(2))\n",
    "        \n",
    "        #set up a table filled with 0 markers\n",
    "        self.table = [0]*self.size\n",
    "        \n",
    "        #find the number of hash functions\n",
    "        self.optimal_k = math.log(k)*(self.size/n)\n",
    "     \n",
    "    #Insertion method\n",
    "    def insert(self, elem):\n",
    "        \n",
    "        #for every hash function\n",
    "        for i in range(self.optimal_k):\n",
    "            \n",
    "            #retrieve the hash value\n",
    "            h_value = mmh3.hash(elem, i)\n",
    "            \n",
    "            #set the marker to 1\n",
    "            self.table[h_value] = 1\n",
    "    \n",
    "    \n",
    "    #Check Method\n",
    "    def check(self, elem):\n",
    "        \n",
    "        #for every hash function\n",
    "        for i in range(self.optimal_k):\n",
    "            \n",
    "            #retrieve hash value\n",
    "            h_value = function(elem, i)\n",
    "            \n",
    "            #check if the marker has been set to 1\n",
    "            if self.table[h_value] != 1:\n",
    "                #return as soon as a marker is not 1\n",
    "                return False\n",
    "        \n",
    "        #if all markers were 1, return True\n",
    "        return True\n",
    "        "
   ]
  },
  {
   "cell_type": "code",
   "execution_count": null,
   "metadata": {},
   "outputs": [],
   "source": []
  },
  {
   "cell_type": "code",
   "execution_count": null,
   "metadata": {},
   "outputs": [],
   "source": []
  }
 ],
 "metadata": {
  "kernelspec": {
   "display_name": "Python 3",
   "language": "python",
   "name": "python3"
  },
  "language_info": {
   "codemirror_mode": {
    "name": "ipython",
    "version": 3
   },
   "file_extension": ".py",
   "mimetype": "text/x-python",
   "name": "python",
   "nbconvert_exporter": "python",
   "pygments_lexer": "ipython3",
   "version": "3.7.3"
  }
 },
 "nbformat": 4,
 "nbformat_minor": 2
}
